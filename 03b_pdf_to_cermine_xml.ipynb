{
 "cells": [
  {
   "cell_type": "code",
   "execution_count": 1,
   "id": "7aa3fbb0",
   "metadata": {},
   "outputs": [],
   "source": [
    "## pdfs are converted to xml using Cermine (java app)"
   ]
  },
  {
   "cell_type": "code",
   "execution_count": 2,
   "id": "94cf76e8",
   "metadata": {},
   "outputs": [],
   "source": [
    "## Content ExtRactor and MINEr = CERMINE\n",
    "## https://github.com/CeON/CERMINE"
   ]
  },
  {
   "cell_type": "markdown",
   "id": "76b94aa2",
   "metadata": {},
   "source": [
    "Dominika Tkaczyk, Pawel Szostek, Mateusz Fedoryszak, Piotr Jan Dendek and Lukasz Bolikowski. \n",
    "CERMINE: automatic extraction of structured metadata from scientific literature. \n",
    "In International Journal on Document Analysis and Recognition (IJDAR), 2015, \n",
    "vol. 18, no. 4, pp. 317-335, doi: 10.1007/s10032-015-0249-8."
   ]
  },
  {
   "cell_type": "code",
   "execution_count": 3,
   "id": "3417ac26",
   "metadata": {},
   "outputs": [],
   "source": [
    "#### run in /pdf\n",
    "#### PATH = path to pdfs\n",
    "## java -cp cermine-impl-1.13-jar-with-dependencies.jar pl.edu.icm.cermine.ContentExtractor -path PATH"
   ]
  }
 ],
 "metadata": {
  "kernelspec": {
   "display_name": "Python 3 (ipykernel)",
   "language": "python",
   "name": "python3"
  },
  "language_info": {
   "codemirror_mode": {
    "name": "ipython",
    "version": 3
   },
   "file_extension": ".py",
   "mimetype": "text/x-python",
   "name": "python",
   "nbconvert_exporter": "python",
   "pygments_lexer": "ipython3",
   "version": "3.7.3"
  }
 },
 "nbformat": 4,
 "nbformat_minor": 5
}
