{
 "cells": [
  {
   "cell_type": "code",
   "execution_count": 1,
   "id": "b59774d2",
   "metadata": {},
   "outputs": [],
   "source": [
    "import urllib\n",
    "import pandas as pd\n",
    "import time\n",
    "from tqdm.notebook import tqdm\n",
    "import re\n",
    "import wget"
   ]
  },
  {
   "cell_type": "markdown",
   "id": "9173ed37",
   "metadata": {},
   "source": [
    "# import list"
   ]
  },
  {
   "cell_type": "code",
   "execution_count": 2,
   "id": "f084113c",
   "metadata": {},
   "outputs": [
    {
     "name": "stdout",
     "output_type": "stream",
     "text": [
      "<class 'pandas.core.frame.DataFrame'>\n",
      "Int64Index: 19110 entries, 0 to 28702\n",
      "Data columns (total 4 columns):\n",
      " #   Column   Non-Null Count  Dtype \n",
      "---  ------   --------------  ----- \n",
      " 0   name     19110 non-null  object\n",
      " 1   pdf_url  19110 non-null  object\n",
      " 2   pmid     19110 non-null  int64 \n",
      " 3   doi      19110 non-null  object\n",
      "dtypes: int64(1), object(3)\n",
      "memory usage: 746.5+ KB\n"
     ]
    }
   ],
   "source": [
    "open_access = pd.read_csv('output/open_access_links.csv', index_col = 0)\n",
    "open_access.info()"
   ]
  },
  {
   "cell_type": "markdown",
   "id": "d350e8b5",
   "metadata": {},
   "source": [
    "# list of pdf url and list of pmid for filenames"
   ]
  },
  {
   "cell_type": "code",
   "execution_count": 3,
   "id": "14cf8880",
   "metadata": {},
   "outputs": [],
   "source": [
    "pdf_list = open_access['pdf_url'].tolist()\n",
    "name_list = open_access['pmid'].astype('string').tolist()"
   ]
  },
  {
   "cell_type": "markdown",
   "id": "b1387725",
   "metadata": {},
   "source": [
    "# download pdfs from links"
   ]
  },
  {
   "cell_type": "code",
   "execution_count": 4,
   "id": "4896df6f",
   "metadata": {},
   "outputs": [],
   "source": [
    "#direct download from link - may not work for some!\n",
    "\n",
    "import requests\n",
    "\n",
    "def download_file(url, filename):    \n",
    "    headers = {'User-Agent': 'Mozilla/5.0 (X11; Ubuntu; Linux x86_64; rv:15.0) Gecko/20100101 Firefox/15.0.1'}    \n",
    "    r = requests.get(url, allow_redirects=True, timeout=(15, 5), headers=headers)    \n",
    "    pdf_url = r.url\n",
    "    with open('pdf/' + filename + '.pdf', 'wb') as f:\n",
    "        f.write(r.content)"
   ]
  },
  {
   "cell_type": "code",
   "execution_count": 6,
   "id": "49e3ef78",
   "metadata": {},
   "outputs": [
    {
     "data": {
      "text/plain": [
       "['https://www.mdpi.com/2077-0383/11/1/229/pdf',\n",
       " 'https://journals.plos.org/plosone/article/file?id=10.1371/journal.pone.0261698&type=printable',\n",
       " 'https://journals.plos.org/plosone/article/file?id=10.1371/journal.pone.0260600&type=printable',\n",
       " 'https://onlinelibrary.wiley.com/doi/pdfdirect/10.1002/dad2.12264',\n",
       " 'http://www.cvdigitalhealthjournal.com/article/S2666693621001468/pdf',\n",
       " 'https://www.mdpi.com/2072-6694/14/1/188/pdf',\n",
       " 'https://downloads.hindawi.com/journals/jo/2021/5499385.pdf',\n",
       " 'https://www.mdpi.com/2077-0383/11/1/219/pdf',\n",
       " 'https://bmjopen.bmj.com/content/bmjopen/11/12/e053808.full.pdf',\n",
       " 'https://www.mdpi.com/1424-8220/22/1/299/pdf']"
      ]
     },
     "execution_count": 6,
     "metadata": {},
     "output_type": "execute_result"
    }
   ],
   "source": [
    "pdf_list[0:10]"
   ]
  },
  {
   "cell_type": "code",
   "execution_count": 7,
   "id": "d72d1942",
   "metadata": {},
   "outputs": [
    {
     "data": {
      "text/plain": [
       "['35011970',\n",
       " '34972109',\n",
       " '34971557',\n",
       " '35005197',\n",
       " '35005676',\n",
       " '35008361',\n",
       " '35003258',\n",
       " '35011959',\n",
       " '34972768',\n",
       " '35009845']"
      ]
     },
     "execution_count": 7,
     "metadata": {},
     "output_type": "execute_result"
    }
   ],
   "source": [
    "name_list[0:10]"
   ]
  },
  {
   "cell_type": "code",
   "execution_count": 8,
   "id": "5ee51cd4",
   "metadata": {},
   "outputs": [
    {
     "data": {
      "application/vnd.jupyter.widget-view+json": {
       "model_id": "aee69656401646ae89a52a0c8481df90",
       "version_major": 2,
       "version_minor": 0
      },
      "text/plain": [
       "0it [00:00, ?it/s]"
      ]
     },
     "metadata": {},
     "output_type": "display_data"
    }
   ],
   "source": [
    "for pdf, filename in tqdm(zip(pdf_list, name_list)):\n",
    "    try:\n",
    "        download_file(pdf, filename)\n",
    "    except:\n",
    "        pass"
   ]
  }
 ],
 "metadata": {
  "kernelspec": {
   "display_name": "Python 3",
   "language": "python",
   "name": "python3"
  },
  "language_info": {
   "codemirror_mode": {
    "name": "ipython",
    "version": 3
   },
   "file_extension": ".py",
   "mimetype": "text/x-python",
   "name": "python",
   "nbconvert_exporter": "python",
   "pygments_lexer": "ipython3",
   "version": "3.8.8"
  }
 },
 "nbformat": 4,
 "nbformat_minor": 5
}
