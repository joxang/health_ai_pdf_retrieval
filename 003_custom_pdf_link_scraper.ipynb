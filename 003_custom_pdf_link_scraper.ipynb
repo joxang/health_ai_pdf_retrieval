{
 "cells": [
  {
   "cell_type": "code",
   "execution_count": 14,
   "id": "b59774d2",
   "metadata": {},
   "outputs": [],
   "source": [
    "import urllib\n",
    "import pandas as pd\n",
    "import time\n",
    "from tqdm.notebook import tqdm\n",
    "import re\n",
    "import wget"
   ]
  },
  {
   "cell_type": "code",
   "execution_count": 15,
   "id": "476e3b12",
   "metadata": {},
   "outputs": [],
   "source": [
    "from lxml import html\n",
    "from random import randint\n",
    "from random import sample\n",
    "from time import sleep\n",
    "import requests\n",
    "import urllib.request\n",
    "from urllib.request import urlopen"
   ]
  },
  {
   "cell_type": "code",
   "execution_count": 16,
   "id": "931f1a9c",
   "metadata": {},
   "outputs": [],
   "source": [
    "from selenium import webdriver\n",
    "from selenium.webdriver.common.by import By\n",
    "\n",
    "options = webdriver.ChromeOptions() \n",
    "options.add_experimental_option(\"excludeSwitches\", [\"enable-logging\"])"
   ]
  },
  {
   "cell_type": "markdown",
   "id": "9173ed37",
   "metadata": {},
   "source": [
    "# import list"
   ]
  },
  {
   "cell_type": "code",
   "execution_count": 2,
   "id": "f084113c",
   "metadata": {},
   "outputs": [],
   "source": [
    "retrieval_1 = pd.read_csv('output/failed_link_retrieval.csv', index_col = 0)\n",
    "retrieval_2 = pd.read_csv('output/no_links_for_open_access.csv', index_col = 0)"
   ]
  },
  {
   "cell_type": "code",
   "execution_count": 5,
   "id": "59a01e88",
   "metadata": {},
   "outputs": [],
   "source": [
    "extra_df = pd.concat([retrieval_1, retrieval_2]).reset_index(drop=True)\n",
    "scrape_df = extra_df[['pmid', 'doi']].copy()"
   ]
  },
  {
   "cell_type": "code",
   "execution_count": 6,
   "id": "36bdb512",
   "metadata": {},
   "outputs": [
    {
     "name": "stdout",
     "output_type": "stream",
     "text": [
      "<class 'pandas.core.frame.DataFrame'>\n",
      "RangeIndex: 13030 entries, 0 to 13029\n",
      "Data columns (total 2 columns):\n",
      " #   Column  Non-Null Count  Dtype \n",
      "---  ------  --------------  ----- \n",
      " 0   pmid    13030 non-null  int64 \n",
      " 1   doi     11814 non-null  object\n",
      "dtypes: int64(1), object(1)\n",
      "memory usage: 203.7+ KB\n"
     ]
    }
   ],
   "source": [
    "scrape_df.info()"
   ]
  },
  {
   "cell_type": "code",
   "execution_count": 7,
   "id": "b8c27a92",
   "metadata": {},
   "outputs": [
    {
     "name": "stdout",
     "output_type": "stream",
     "text": [
      "<class 'pandas.core.frame.DataFrame'>\n",
      "Int64Index: 11814 entries, 0 to 13029\n",
      "Data columns (total 2 columns):\n",
      " #   Column  Non-Null Count  Dtype \n",
      "---  ------  --------------  ----- \n",
      " 0   pmid    11814 non-null  int64 \n",
      " 1   doi     11814 non-null  object\n",
      "dtypes: int64(1), object(1)\n",
      "memory usage: 276.9+ KB\n"
     ]
    }
   ],
   "source": [
    "doi_df = scrape_df[~scrape_df['doi'].isnull()]\n",
    "doi_df.info()"
   ]
  },
  {
   "cell_type": "code",
   "execution_count": 8,
   "id": "a4f5740c",
   "metadata": {},
   "outputs": [],
   "source": [
    "id_dict = dict(zip(doi_df['pmid'], doi_df['doi']))\n",
    "pmid_list = doi_df['pmid'].tolist()\n",
    "doi_list = doi_df['doi'].tolist()"
   ]
  },
  {
   "cell_type": "markdown",
   "id": "d350e8b5",
   "metadata": {},
   "source": [
    "# create url for dois"
   ]
  },
  {
   "cell_type": "code",
   "execution_count": 10,
   "id": "14cf8880",
   "metadata": {},
   "outputs": [
    {
     "data": {
      "text/plain": [
       "11814"
      ]
     },
     "execution_count": 10,
     "metadata": {},
     "output_type": "execute_result"
    }
   ],
   "source": [
    "url_list = []\n",
    "\n",
    "for doi in doi_list:\n",
    "    link = \"https://doi.org/{}\".format(doi)\n",
    "    url_list.append(link)\n",
    "\n",
    "len(url_list)"
   ]
  },
  {
   "cell_type": "markdown",
   "id": "f3c56892",
   "metadata": {},
   "source": [
    "# get re-direct urls into new list"
   ]
  },
  {
   "cell_type": "code",
   "execution_count": null,
   "id": "d1de1ec4",
   "metadata": {},
   "outputs": [],
   "source": [
    "scrape_list = []\n",
    "\n",
    "for url in tqdm(url_list):\n",
    "    \n",
    "    driver = webdriver.Chrome(options=options)\n",
    "    \n",
    "    try:\n",
    "        driver.get(url)\n",
    "        link = driver.current_url\n",
    "        driver.quit()\n",
    "        \n",
    "        print(link)\n",
    "        scrape_list.append(link)\n",
    "        \n",
    "    except Exception:\n",
    "        scrape_list.append(\"error\")\n",
    "        print(\"error\")\n",
    "        pass\n",
    "    \n",
    "len(scrape_list)"
   ]
  },
  {
   "cell_type": "code",
   "execution_count": null,
   "id": "0b8423ce",
   "metadata": {},
   "outputs": [],
   "source": [
    "## link modifications for pdfs:\n",
    "## mdpi -> add /pdf to end!\n",
    "\n",
    "## onlinelibrary.wiley -> https://onlinelibrary.wiley.com/doi/10.1002/lary.29960',\n",
    "## add /pdfdirect/ after /doi\n",
    "\n",
    "## hindawi -> domain to downloads.hindawi.com, remove last slash and add .pdf\n",
    "\n",
    "## sagepub -> add /pdf/ after /doi\n",
    "## https://journals.sagepub.com/doi/10.1177/20556683211044640\n",
    "## https://journals.sagepub.com/doi/pdf/10.1177/20556683211044640\n",
    "\n",
    "## springer -> change article to content/pdf, and add .pdf on the end\n",
    "## https://link.springer.com/article/10.1007/s00330-021-08250-9\n",
    "## https://link.springer.com/content/pdf/10.1007/s00330-021-08250-9.pdf\n",
    "\n",
    "\n",
    "## we are going to use webdriver to download these pdfs, then rename the pdfs after download!"
   ]
  },
  {
   "cell_type": "markdown",
   "id": "ad67a272",
   "metadata": {},
   "source": [
    "# change compatible urls to pdf links"
   ]
  },
  {
   "cell_type": "code",
   "execution_count": null,
   "id": "78a05006",
   "metadata": {},
   "outputs": [],
   "source": []
  },
  {
   "cell_type": "code",
   "execution_count": null,
   "id": "22fcfa8f",
   "metadata": {},
   "outputs": [],
   "source": []
  },
  {
   "cell_type": "code",
   "execution_count": null,
   "id": "3889d8b8",
   "metadata": {},
   "outputs": [],
   "source": []
  },
  {
   "cell_type": "code",
   "execution_count": null,
   "id": "955d13e6",
   "metadata": {},
   "outputs": [],
   "source": []
  },
  {
   "cell_type": "code",
   "execution_count": null,
   "id": "87a1b7b3",
   "metadata": {},
   "outputs": [],
   "source": []
  },
  {
   "cell_type": "markdown",
   "id": "b1387725",
   "metadata": {},
   "source": [
    "# download pdfs from links"
   ]
  },
  {
   "cell_type": "code",
   "execution_count": 18,
   "id": "4896df6f",
   "metadata": {},
   "outputs": [],
   "source": [
    "import requests\n",
    "\n",
    "def download_file(url, filename):    \n",
    "    headers = {'User-Agent': 'Mozilla/5.0 (X11; Ubuntu; Linux x86_64; rv:15.0) Gecko/20100101 Firefox/15.0.1'}    \n",
    "    r = requests.get(url, allow_redirects=True, timeout=(15, 5), headers=headers)    \n",
    "    pdf_url = r.url\n",
    "    with open('pdf/' + filename + '.pdf', 'wb') as f:\n",
    "        f.write(r.content)"
   ]
  },
  {
   "cell_type": "code",
   "execution_count": 19,
   "id": "a0abe61e",
   "metadata": {},
   "outputs": [],
   "source": [
    "#test_pdf = pdf_list[0:10]\n",
    "#test_name = name_list[0:10]"
   ]
  },
  {
   "cell_type": "code",
   "execution_count": 6,
   "id": "49e3ef78",
   "metadata": {},
   "outputs": [
    {
     "data": {
      "text/plain": [
       "['https://www.mdpi.com/2077-0383/11/1/229/pdf',\n",
       " 'https://journals.plos.org/plosone/article/file?id=10.1371/journal.pone.0261698&type=printable',\n",
       " 'https://journals.plos.org/plosone/article/file?id=10.1371/journal.pone.0260600&type=printable',\n",
       " 'https://onlinelibrary.wiley.com/doi/pdfdirect/10.1002/dad2.12264',\n",
       " 'http://www.cvdigitalhealthjournal.com/article/S2666693621001468/pdf',\n",
       " 'https://www.mdpi.com/2072-6694/14/1/188/pdf',\n",
       " 'https://downloads.hindawi.com/journals/jo/2021/5499385.pdf',\n",
       " 'https://www.mdpi.com/2077-0383/11/1/219/pdf',\n",
       " 'https://bmjopen.bmj.com/content/bmjopen/11/12/e053808.full.pdf',\n",
       " 'https://www.mdpi.com/1424-8220/22/1/299/pdf']"
      ]
     },
     "execution_count": 6,
     "metadata": {},
     "output_type": "execute_result"
    }
   ],
   "source": [
    "pdf_list[0:10]"
   ]
  },
  {
   "cell_type": "code",
   "execution_count": 7,
   "id": "d72d1942",
   "metadata": {},
   "outputs": [
    {
     "data": {
      "text/plain": [
       "['35011970',\n",
       " '34972109',\n",
       " '34971557',\n",
       " '35005197',\n",
       " '35005676',\n",
       " '35008361',\n",
       " '35003258',\n",
       " '35011959',\n",
       " '34972768',\n",
       " '35009845']"
      ]
     },
     "execution_count": 7,
     "metadata": {},
     "output_type": "execute_result"
    }
   ],
   "source": [
    "name_list[0:10]"
   ]
  },
  {
   "cell_type": "code",
   "execution_count": 8,
   "id": "5ee51cd4",
   "metadata": {},
   "outputs": [
    {
     "data": {
      "application/vnd.jupyter.widget-view+json": {
       "model_id": "aee69656401646ae89a52a0c8481df90",
       "version_major": 2,
       "version_minor": 0
      },
      "text/plain": [
       "0it [00:00, ?it/s]"
      ]
     },
     "metadata": {},
     "output_type": "display_data"
    }
   ],
   "source": [
    "for pdf, filename in tqdm(zip(pdf_list, name_list)):\n",
    "    try:\n",
    "        download_file(pdf, filename)\n",
    "    except:\n",
    "        pass"
   ]
  },
  {
   "cell_type": "code",
   "execution_count": 36,
   "id": "7e3f5ed6",
   "metadata": {},
   "outputs": [],
   "source": [
    "testurl = \"https://journals.sagepub.com/doi/pdf/10.1177/17085381211040984\"\n",
    "\n",
    "#download_file(testurl, \"test4\")\n",
    "\n"
   ]
  },
  {
   "cell_type": "markdown",
   "id": "9a777163",
   "metadata": {},
   "source": [
    "# using webdriver to download pdfs"
   ]
  },
  {
   "cell_type": "code",
   "execution_count": 37,
   "id": "2fb6cc17",
   "metadata": {},
   "outputs": [
    {
     "data": {
      "text/plain": [
       "'https://journals.sagepub.com/doi/pdf/10.1177/17085381211040984'"
      ]
     },
     "execution_count": 37,
     "metadata": {},
     "output_type": "execute_result"
    }
   ],
   "source": [
    "testurl"
   ]
  },
  {
   "cell_type": "code",
   "execution_count": 41,
   "id": "230ba269",
   "metadata": {},
   "outputs": [],
   "source": [
    "profile = {\n",
    "    'download.prompt_for_download': False,\n",
    "    'download.directory_upgrade': True,\n",
    "    'plugins.always_open_pdf_externally': True,\n",
    "}\n",
    "options.add_experimental_option('prefs', profile)"
   ]
  },
  {
   "cell_type": "code",
   "execution_count": 42,
   "id": "32aaf23a",
   "metadata": {},
   "outputs": [],
   "source": [
    "driver.quit()\n",
    "driver = webdriver.Chrome(options=options)\n",
    "\n",
    "#driver.get(random.choice(url_list))\n",
    "driver.get(testurl)"
   ]
  },
  {
   "cell_type": "code",
   "execution_count": null,
   "id": "36efa735",
   "metadata": {},
   "outputs": [],
   "source": [
    "## rename the latest downloaded file...\n",
    "## https://stackoverflow.com/questions/68565656/how-can-i-rename-the-latest-downloaded-file"
   ]
  }
 ],
 "metadata": {
  "kernelspec": {
   "display_name": "Python 3 (ipykernel)",
   "language": "python",
   "name": "python3"
  },
  "language_info": {
   "codemirror_mode": {
    "name": "ipython",
    "version": 3
   },
   "file_extension": ".py",
   "mimetype": "text/x-python",
   "name": "python",
   "nbconvert_exporter": "python",
   "pygments_lexer": "ipython3",
   "version": "3.9.10"
  }
 },
 "nbformat": 4,
 "nbformat_minor": 5
}
